{
 "cells": [
  {
   "cell_type": "markdown",
   "metadata": {},
   "source": [
    "## Regularization test simulation"
   ]
  },
  {
   "cell_type": "code",
   "execution_count": 1,
   "metadata": {
    "collapsed": true
   },
   "outputs": [],
   "source": [
    "%matplotlib inline"
   ]
  },
  {
   "cell_type": "code",
   "execution_count": 2,
   "metadata": {},
   "outputs": [],
   "source": [
    "from sklearn.linear_model.ridge import ridge_regression"
   ]
  },
  {
   "cell_type": "code",
   "execution_count": 3,
   "metadata": {},
   "outputs": [],
   "source": [
    "import os\n",
    "import sys\n",
    "if sys.platform is 'darwin':\n",
    "    sys.path.append(os.path.join('/Users', 'njchiang', \n",
    "                                 'CloudStation', 'Grad',\n",
    "                                 'Research', 'BayesReg'))\n",
    "else:\n",
    "    sys.path.append(os.path.join('D:\\\\', \n",
    "                                 'CloudStation', 'Grad',\n",
    "                                 'Research', 'BayesReg'))"
   ]
  },
  {
   "cell_type": "code",
   "execution_count": 4,
   "metadata": {},
   "outputs": [],
   "source": [
    "import numpy as np\n",
    "from scipy import stats\n",
    "import matplotlib.pyplot as plt\n",
    "from sklearn.model_selection import train_test_split\n",
    "from time import time"
   ]
  },
  {
   "cell_type": "code",
   "execution_count": 18,
   "metadata": {},
   "outputs": [],
   "source": [
    "# Parameters of the example\n",
    "np.random.seed(0)\n",
    "# Create some test data\n",
    "N = 2000 # features\n",
    "M = 2 # response sources (voxels, whatever)\n",
    "TR = 1000 # regression timepoints\n",
    "TP = 200 # prediction timepoints\n",
    "\n",
    "# snrs = np.linspace(0, 0.2, M)\n",
    "snrs = 0.2\n",
    "realwt = np.random.randn(N, M)\n",
    "features = np.random.randn(TR+TP, N)\n",
    "realresponses = np.dot(features, realwt) # shape (TR+TP, M)\n",
    "noise = np.random.randn(TR+TP, M)\n",
    "responses = (realresponses * snrs) + noise\n",
    "\n",
    "y_train = responses[:TR]\n",
    "y_test = responses[TR:]\n",
    "x_train = features[:TR]\n",
    "x_test = features[TR:]"
   ]
  },
  {
   "cell_type": "code",
   "execution_count": 19,
   "metadata": {},
   "outputs": [],
   "source": [
    ""
   ]
  },
  {
   "cell_type": "code",
   "execution_count": 19,
   "metadata": {},
   "outputs": [],
   "source": [
    "L = np.diag(np.ones(N))\n",
    "L[3,4] = 0.5\n",
    "L[4,3] = 0.5\n",
    "# L = np.linalg.pinv(np.corrcoef(realwt))\n",
    "# L.shape"
   ]
  },
  {
   "cell_type": "code",
   "execution_count": 20,
   "metadata": {},
   "outputs": [],
   "source": [
    "from sklearn.linear_model import Ridge, ARDRegression, LinearRegression\n",
    "from TikhonovRegression import TikhonovReg, TikhonovRegCV\n",
    "import TikhonovRegression as TR"
   ]
  },
  {
   "cell_type": "code",
   "execution_count": 21,
   "metadata": {},
   "outputs": [
    {
     "data": {
      "text/plain": [
       "<function sklearn.linear_model.ridge.ridge_regression>"
      ]
     },
     "execution_count": 21,
     "metadata": {},
     "output_type": "execute_result"
    }
   ],
   "source": [
    "from sklearn.linear_model.ridge import ridge_regression\n",
    "ridge_regression"
   ]
  },
  {
   "cell_type": "code",
   "execution_count": 22,
   "metadata": {},
   "outputs": [],
   "source": [
    "# linear regression\n",
    "clfs = {'OLS': LinearRegression(), 'Ridge': Ridge(),\n",
    "        'Tikhonov_auto': TikhonovReg(gamma=L, solver='auto'),\n",
    "        'Tikhonov_cache': TikhonovReg(gamma=L, solver='cache')}\n",
    "\n",
    "        # 'ARD': ARDRegression(compute_score=True)}"
   ]
  },
  {
   "cell_type": "code",
   "execution_count": 23,
   "metadata": {
    "collapsed": false
   },
   "outputs": [
    {
     "name": "stdout",
     "output_type": "stream",
     "text": [
      "--------------------------\nFitting Tikhonov_cache\n"
     ]
    },
    {
     "name": "stdout",
     "output_type": "stream",
     "text": [
      "0.475866585497\nFinished in 1.58700013161seconds\n--------------------------\n--------------------------\nFitting OLS\n"
     ]
    },
    {
     "name": "stdout",
     "output_type": "stream",
     "text": [
      "0.47137370871\nFinished in 0.259999990463seconds\n--------------------------\n--------------------------\nFitting Ridge\n0.47681918523\nFinished in 0.0590000152588seconds\n--------------------------\n--------------------------\nFitting Tikhonov_auto\n"
     ]
    },
    {
     "name": "stdout",
     "output_type": "stream",
     "text": [
      "0.475866585497\nFinished in 1.04399991035seconds\n--------------------------\n"
     ]
    }
   ],
   "source": [
    "for i in clfs:\n",
    "    print '--------------------------'\n",
    "    print \"Fitting \" + i\n",
    "    now = time()\n",
    "    print clfs[i].fit(x_train, y_train).score(x_test,y_test)\n",
    "    done = time()\n",
    "    print \"Finished in \" + str(done-now) + 'seconds'\n",
    "    print '--------------------------'"
   ]
  },
  {
   "cell_type": "code",
   "execution_count": 25,
   "metadata": {
    "collapsed": false
   },
   "outputs": [
    {
     "name": "stdout",
     "output_type": "stream",
     "text": [
      "[ 0.22381273  0.07607833 -0.11128479  0.16522128 -0.0203737  -0.02842833\n -0.00253579 -0.08114127  0.01819455  0.03435772]\n[ 0.22381273  0.07607833 -0.11128479  0.16522128 -0.0203737  -0.02842833\n -0.00253579 -0.08114127  0.01819455  0.03435772]\n[ 0.22416261  0.07515899 -0.11074569  0.1872006  -0.09951985 -0.02795413\n  0.00036027 -0.08444963  0.01780126  0.03465505]\n[ 0.22416261  0.07515899 -0.11074569  0.1872006  -0.09951985 -0.02795413\n  0.00036027 -0.08444963  0.01780126  0.03465505]\n"
     ]
    },
    {
     "name": "stdout",
     "output_type": "stream",
     "text": [
      "[ 0.22416261  0.07515899 -0.11074569  0.1872006  -0.09951985 -0.02795413\n  0.00036027 -0.08444963  0.01780126  0.03465505]\n"
     ]
    },
    {
     "name": "stdout",
     "output_type": "stream",
     "text": [
      "[ 0.22416261  0.07515899 -0.11074569  0.1872006  -0.09951985 -0.02795413\n  0.00036027 -0.08444963  0.01780126  0.03465505]\n"
     ]
    },
    {
     "data": {
      "text/plain": [
       "<matplotlib.image.AxesImage at 0xa0d55c0>"
      ]
     },
     "execution_count": 25,
     "metadata": {},
     "output_type": "execute_result"
    },
    {
     "data": {
      "image/png": "[encoded data removed]",
      "text/plain": [
       "<matplotlib.figure.Figure at 0x9b25a90>"
      ]
     },
     "metadata": {},
     "output_type": "display_data"
    }
   ],
   "source": [
    "print clfs['Ridge'].coef_[0, :10]\n",
    "\n",
    "print TR.ridge_regression(x_train-x_train.mean(axis=0), \n",
    "                                 y_train-y_train.mean(axis=0), alpha=1.0)[0, :10]\n",
    "\n",
    "print clfs['Tikhonov_auto'].coef_[0, :10]\n",
    "print clfs['Tikhonov_cache'].coef_[0, :10]\n",
    "\n",
    "print TR.tikhonov_regression(x_train-x_train.mean(axis=0), \n",
    "                          y_train-y_train.mean(axis=0), \n",
    "                          alpha=1.0, L=L,\n",
    "                          method='analytic')[0,:10]\n",
    "print TR.tikhonov_regression(x_train-x_train.mean(axis=0), \n",
    "                          y_train-y_train.mean(axis=0), \n",
    "                          alpha=1.0, L=L,\n",
    "                          method='estimate')[0,:10]\n",
    "\n",
    "\n",
    "plt.imshow(np.corrcoef(np.vstack([clfs[i].coef_\n",
    "                                  for i in clfs])),\n",
    "           interpolation='nearest')"
   ]
  },
  {
   "cell_type": "code",
   "execution_count": 12,
   "metadata": {},
   "outputs": [
    {
     "data": {
      "text/plain": [
       "array([[  3.17200293e-01,   1.38889995e-01,   3.27865446e-01,\n          1.54265023e-01,   1.30345227e-02,  -8.07652929e-03,\n          1.40877574e-01,   6.31018617e-02,   3.06675169e-01,\n          3.14612127e-02,  -5.07798284e-01,   1.17759796e-01,\n          4.96607414e-01,   5.66145759e-02,   3.34970509e-01,\n          2.07337792e-02,  -1.80189961e-01,  -1.32019482e-01,\n          2.57684621e-01,  -1.17622631e-01,  -2.09369222e-01,\n         -4.17245547e-01,  -1.28230598e-01,  -2.53602318e-01,\n         -3.66636929e-01,  -1.59879799e-01,  -1.32700570e-01,\n         -3.59012902e-02,   4.15415609e-02,  -1.11651055e-01,\n         -1.04229067e-01,  -1.27796513e-01,   5.81935015e-03,\n         -2.90313075e-01,  -1.54192090e-01,   1.62623466e-01,\n          2.57894330e-01,   8.48106232e-02,  -1.19778398e-01,\n          7.10427654e-03,  -1.91518130e-01,   3.25561919e-02,\n          2.30002095e-01,   1.97618883e-01,  -1.80228640e-01,\n         -1.05917734e-01,   6.69603704e-02,   9.84157779e-02,\n          3.57144933e-02,   2.49417700e-02,   3.96922343e-01,\n         -2.80849844e-01,  -2.41412020e-01,  -1.02918604e-01,\n          3.75920433e-01,   3.65926023e-01,  -2.33605055e-01,\n         -5.66046819e-02,   1.67153129e-01,   1.51615059e-01,\n          7.97829183e-02,   6.61577039e-02,  -1.01525196e-01,\n         -5.62100837e-02,   4.77681971e-02,  -1.64656608e-01,\n         -1.59193017e-01,  -7.09352592e-02,   1.09062196e-01,\n          8.43898258e-02,  -2.42911280e-01,   9.70351968e-03,\n          3.59938761e-01,  -1.52382573e-01,  -2.28048486e-01,\n          1.85946177e-02,  -1.99338813e-01,   8.64884388e-03,\n          2.56897117e-01,  -2.42511674e-01,  -6.83580519e-02,\n          1.13325286e-01,  -3.14155944e-01,  -1.69798401e-01,\n          2.63654867e-01,   1.51965743e-01,   1.01566280e-01,\n         -1.97575283e-01,  -1.75812666e-01,  -4.52228487e-02,\n         -8.08060011e-02,  -1.21367196e-01,   1.38697388e-01,\n         -1.85336538e-01,  -1.77672872e-01,  -1.83995587e-01,\n         -5.68290011e-03,   1.16779230e-01,   1.09577151e-01,\n          4.06519485e-01,  -7.41309854e-02,   2.60608976e-01,\n          1.09306491e-01,  -2.31395788e-03,   8.29898497e-02,\n          1.37506160e-01,   1.56861286e-01,  -2.26859862e-01,\n          3.55830744e-03,   4.41240167e-01,  -2.58224271e-01,\n         -1.10980857e-01,  -2.73322449e-01,   7.49629684e-03,\n         -1.36889733e-01,  -3.09527889e-01,  -1.17822609e-01,\n         -2.05208952e-01,   2.87306810e-01,   1.18621079e-01,\n         -8.38946841e-02,   7.27525532e-04,  -8.88413011e-02,\n          2.28733194e-01,  -9.24089594e-02,   6.96261479e-02,\n          3.15299024e-02,   1.30729895e-01,  -1.10037324e-01,\n         -2.89687480e-01,  -2.86712473e-01,  -1.15634413e-01,\n         -3.72579870e-01,   1.09610498e-01,  -8.03545703e-02,\n          6.28090790e-02,   3.73767583e-01,  -1.27548722e-01,\n          8.24474483e-02,  -3.81147445e-01,  -4.18363875e-02,\n         -1.77069288e-01,   9.75628168e-02,  -2.32942179e-01,\n          1.41966944e-01,  -1.14747949e-01,   4.47697062e-01,\n          3.20500765e-02,   3.51664533e-02,  -4.37391235e-02,\n         -3.05536997e-01,  -5.51891338e-02,   1.26229427e-01,\n         -2.51258500e-01,   1.88061973e-01,  -5.86996153e-02,\n         -2.38638993e-01,  -8.50654041e-02,  -1.35805865e-02,\n         -2.09088637e-03,  -1.85091412e-01,   9.06548223e-02,\n         -2.43145873e-01,  -5.15026233e-02,  -1.33093223e-01,\n          1.42384419e-01,   1.13317320e-01,  -5.34798516e-01,\n         -3.10585383e-01,  -1.67705821e-01,   2.02201085e-01,\n         -1.17742914e-01,  -2.66443876e-02,  -1.15364569e-01,\n          1.55665748e-01,  -1.58556996e-01,   2.77338726e-01,\n         -1.29243557e-01,  -3.66924327e-01,  -9.73201773e-02,\n          1.64632880e-01,   1.56354772e-01,   7.19670706e-03,\n         -4.37876012e-02,  -4.10779006e-02,   1.08558986e-01,\n          1.15948007e-01,  -1.71316303e-03,   1.34257135e-01,\n         -1.48700939e-02,  -3.75094075e-01,  -4.89272163e-01,\n         -1.14025161e-02,  -1.34473227e-01,   2.31685096e-01,\n          6.41396202e-02,  -5.59795892e-02,  -5.91838305e-02,\n          1.36405371e-01,   3.16810025e-01],\n       [  9.84187238e-02,   4.27651265e-01,  -2.05938225e-01,\n          9.88098973e-03,   9.33535580e-02,   2.36722370e-01,\n          2.91484327e-02,   2.71005846e-02,  -4.52660613e-02,\n         -1.10255514e-01,   1.20429426e-01,  -1.62193788e-01,\n         -2.72919469e-01,  -3.84079400e-02,   3.25162113e-01,\n          6.26508950e-02,  -4.37608917e-01,   4.16364469e-02,\n          1.98697730e-01,  -7.65150842e-02,  -2.98411044e-01,\n          3.60736318e-01,  -8.47435851e-02,   1.75864658e-01,\n         -3.36876899e-02,   3.73435745e-02,  -2.60888573e-01,\n          3.72338357e-02,   6.80204383e-02,  -9.12657227e-02,\n         -1.00997507e-02,  -2.99709239e-01,  -3.96912804e-02,\n          1.05972326e-01,  -3.99132980e-02,   4.96681882e-02,\n         -2.45051461e-01,  -1.39561271e-01,  -9.56779082e-02,\n         -7.83450688e-03,   1.44994311e-01,  -2.99334015e-01,\n          3.74642387e-01,  -1.49179338e-01,   2.45617523e-01,\n          2.35787398e-01,   1.89240781e-01,   1.70666837e-01,\n          3.30116219e-01,   1.14035305e-01,  -2.56546251e-01,\n          1.80185960e-01,   4.16688539e-01,  -1.50182209e-01,\n          2.96080459e-01,   2.01013288e-01,   3.57502511e-01,\n          1.50504877e-01,  -2.12519117e-02,   1.72910662e-01,\n         -1.67711829e-01,   2.56188010e-01,   2.53577562e-02,\n          3.73616777e-01,   1.12604979e-01,   1.06370192e-01,\n          3.07505396e-02,   1.31432358e-01,  -1.33643407e-03,\n         -2.43226044e-01,   1.52045062e-01,   1.60854034e-01,\n          1.42003720e-01,   2.38738961e-01,  -4.33599974e-02,\n          3.37890872e-01,  -1.79079568e-01,  -1.79466925e-01,\n         -2.62891380e-01,  -4.79672562e-02,   4.19783925e-01,\n         -5.50125926e-02,   1.88732427e-01,  -2.94844619e-01,\n          9.57750354e-02,   9.98796305e-02,  -1.19476136e-01,\n          1.29798887e-01,  -1.46949158e-01,   2.35403989e-02,\n         -3.16773389e-01,  -4.47091622e-01,  -3.16524721e-01,\n          2.69715926e-02,   2.81338205e-01,   1.03197563e-01,\n         -1.75456389e-01,  -4.54460131e-02,   1.72339565e-01,\n          2.54233726e-01,  -8.37783123e-03,   1.37594084e-01,\n         -3.38044137e-01,  -1.58300163e-01,  -4.08078460e-02,\n          7.57327441e-02,  -1.08020524e-01,  -1.61203684e-01,\n          4.46339320e-02,  -8.24677581e-02,  -9.16090441e-02,\n          2.45498019e-02,   2.22719464e-02,  -3.41497520e-04,\n         -6.39156638e-02,  -1.67854566e-01,   5.31454335e-02,\n          1.41694763e-01,  -4.35977000e-01,   1.29212174e-01,\n         -8.33316100e-02,  -5.95169795e-02,  -3.03746481e-01,\n          2.17934537e-01,  -2.85176990e-01,  -1.13881081e-01,\n         -3.02542101e-02,   1.33894477e-01,  -2.63445294e-01,\n          1.41201812e-01,  -9.90260536e-02,  -1.52748774e-02,\n          6.42465060e-02,  -8.24749143e-03,  -8.62111396e-03,\n         -5.50406506e-01,   7.09306502e-02,  -5.66032674e-02,\n          2.89725048e-02,   4.09394606e-01,   2.13445832e-01,\n          3.36169555e-01,   1.27120227e-01,   2.13258656e-01,\n          3.02363196e-01,  -8.11463453e-02,  -2.18920277e-01,\n          1.95342897e-01,   1.30515193e-01,   3.60128779e-02,\n          3.17205115e-01,  -1.33505741e-01,  -9.86126487e-02,\n         -2.56850390e-01,  -3.71678819e-02,   1.58664909e-01,\n         -8.68582356e-02,   5.24209040e-02,  -4.79712333e-02,\n         -3.33078528e-02,  -1.63359962e-01,  -1.54314954e-01,\n         -9.95535880e-03,   4.05835421e-01,   1.60928519e-01,\n         -2.35789668e-01,  -2.19624755e-01,   8.21949336e-02,\n          7.61513406e-02,   3.01682443e-01,  -7.59085285e-02,\n         -2.02250308e-01,  -6.59360768e-02,   3.55593947e-02,\n          8.71991366e-02,  -3.21760336e-01,  -1.68920088e-01,\n         -6.41992829e-02,  -1.01391381e-01,   1.47884753e-01,\n          4.30700937e-02,   8.48460174e-02,   1.18936371e-02,\n         -1.21975050e-01,  -2.69821209e-01,  -2.05510031e-01,\n         -3.50546052e-02,   1.13775414e-01,  -3.08770102e-01,\n          1.10444065e-01,   5.38333903e-02,  -2.25815268e-01,\n         -3.62584675e-01,  -3.07894585e-01,  -1.69273595e-02,\n         -9.53451080e-02,  -3.28647679e-01,  -2.07486315e-01,\n          2.78568692e-01,   1.82439706e-01]])"
      ]
     },
     "execution_count": 12,
     "metadata": {},
     "output_type": "execute_result"
    }
   ],
   "source": [
    "from sklearn.linear_model import RidgeCV, Ridge\n",
    "Ridge(alpha=10.0).fit(x_train, y_train).coef_"
   ]
  },
  {
   "cell_type": "code",
   "execution_count": 26,
   "metadata": {},
   "outputs": [],
   "source": [
    "bcv1 = TikhonovRegCV(alphas = np.logspace(-3, 3, 10), gamma=L)\n",
    "bcv2 = TikhonovRegCV(alphas = np.logspace(-3, 3, 10), gamma=None)\n",
    "rcv1 = RidgeCV(alphas = np.logspace(-3, 3, 10))"
   ]
  },
  {
   "cell_type": "code",
   "execution_count": 27,
   "metadata": {},
   "outputs": [
    {
     "data": {
      "text/plain": [
       "RidgeCV(alphas=array([  1.00000e-03,   4.64159e-03,   2.15443e-02,   1.00000e-01,\n         4.64159e-01,   2.15443e+00,   1.00000e+01,   4.64159e+01,\n         2.15443e+02,   1.00000e+03]),\n    cv=None, fit_intercept=True, gcv_mode=None, normalize=False,\n    scoring=None, store_cv_values=False)"
      ]
     },
     "execution_count": 27,
     "metadata": {},
     "output_type": "execute_result"
    }
   ],
   "source": [
    "bcv1.fit(x_train, y_train)\n",
    "bcv2.fit(x_train, y_train)\n",
    "rcv1.fit(x_train, y_train)"
   ]
  },
  {
   "cell_type": "code",
   "execution_count": 28,
   "metadata": {},
   "outputs": [
    {
     "data": {
      "text/plain": [
       "(0.001, 0.001, 0.001)"
      ]
     },
     "execution_count": 28,
     "metadata": {},
     "output_type": "execute_result"
    }
   ],
   "source": [
    "bcv1.alpha_, bcv2.alpha_, rcv1.alpha_"
   ]
  },
  {
   "cell_type": "code",
   "execution_count": 29,
   "metadata": {},
   "outputs": [
    {
     "data": {
      "text/plain": [
       "array([[ 0.22161589,  0.07737897, -0.10907558,  0.16476529, -0.01903364,\n        -0.02721163, -0.00323337, -0.07825861,  0.01757688,  0.03516834],\n       [-0.17554613,  0.15192572, -0.19078846, -0.09156884, -0.20668626,\n         0.00790044,  0.04364497, -0.02959854,  0.02813861, -0.12901043]])"
      ]
     },
     "execution_count": 29,
     "metadata": {},
     "output_type": "execute_result"
    }
   ],
   "source": [
    "TikhonovReg(alpha=10.0, gamma=None).fit(x_train, y_train).coef_[:, :10]"
   ]
  },
  {
   "cell_type": "code",
   "execution_count": 30,
   "metadata": {
    "collapsed": false
   },
   "outputs": [
    {
     "data": {
      "text/plain": [
       "2.1130322426683723e-12"
      ]
     },
     "execution_count": 30,
     "metadata": {},
     "output_type": "execute_result"
    }
   ],
   "source": [
    "np.abs(TikhonovReg(alpha=10.0, gamma=np.diag(np.ones(N))).fit(x_train, y_train).coef_ -\n",
    "       Ridge(alpha=10.0).fit(x_train, y_train).coef_).sum()"
   ]
  },
  {
   "cell_type": "code",
   "execution_count": 31,
   "metadata": {
    "collapsed": true
   },
   "outputs": [
    {
     "data": {
      "text/plain": [
       "array([[ 0.22406267,  0.07592576, -0.11153626,  0.16526909, -0.02052859,\n        -0.02856908, -0.00245212, -0.08146807,  0.01826539,  0.03426345],\n       [-0.17834191,  0.15180065, -0.1911655 , -0.09087787, -0.20622054,\n         0.00603497,  0.04490036, -0.02815844,  0.02958851, -0.13027301]])"
      ]
     },
     "execution_count": 31,
     "metadata": {},
     "output_type": "execute_result"
    }
   ],
   "source": [
    "rcv1.coef_[:, :10]"
   ]
  },
  {
   "cell_type": "code",
   "execution_count": 32,
   "metadata": {},
   "outputs": [
    {
     "data": {
      "text/plain": [
       "array([[ 0.22406267,  0.07592576, -0.11153626,  0.16526909, -0.02052859,\n        -0.02856908, -0.00245212, -0.08146807,  0.01826539,  0.03426345],\n       [-0.17834191,  0.15180065, -0.1911655 , -0.09087787, -0.20622054,\n         0.00603497,  0.04490036, -0.02815844,  0.02958851, -0.13027301]])"
      ]
     },
     "execution_count": 32,
     "metadata": {},
     "output_type": "execute_result"
    }
   ],
   "source": [
    "bcv2.coef_[:, :10]"
   ]
  },
  {
   "cell_type": "code",
   "execution_count": null,
   "metadata": {},
   "outputs": [],
   "source": [
    ""
   ]
  }
 ],
 "metadata": {
  "kernelspec": {
   "display_name": "Python 2",
   "language": "python",
   "name": "python2"
  },
  "language_info": {
   "codemirror_mode": {
    "name": "ipython",
    "version": 2.0
   },
   "file_extension": ".py",
   "mimetype": "text/x-python",
   "name": "python",
   "nbconvert_exporter": "python",
   "pygments_lexer": "ipython2",
   "version": "2.7.6"
  }
 },
 "nbformat": 4,
 "nbformat_minor": 0
}