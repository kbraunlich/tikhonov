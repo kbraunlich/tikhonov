{
 "cells": [
  {
   "cell_type": "markdown",
   "metadata": {},
   "source": [
    "## Regularization test simulation"
   ]
  },
  {
   "cell_type": "code",
   "execution_count": 2,
   "metadata": {},
   "outputs": [],
   "source": [
    "%matplotlib inline"
   ]
  },
  {
   "cell_type": "code",
   "execution_count": 3,
   "metadata": {},
   "outputs": [],
   "source": [
    "import os, sys\n",
    "os.chdir(\"/Users/njchiang/GitHub/tikhonov\")"
   ]
  },
  {
   "cell_type": "code",
   "execution_count": 4,
   "metadata": {},
   "outputs": [],
   "source": [
    "import numpy as np\n",
    "import matplotlib.pyplot as plt\n",
    "from tikhonov import TikhonovRegression as tik\n",
    "from sklearn.linear_model import Ridge, LinearRegression"
   ]
  },
  {
   "cell_type": "markdown",
   "metadata": {},
   "source": [
    "## Simple 3 feature example"
   ]
  },
  {
   "cell_type": "code",
   "execution_count": 5,
   "metadata": {},
   "outputs": [],
   "source": [
    "def generate_x_y(b, n_samples, testprop):\n",
    "    n = np.floor(n_samples * testprop).astype(int)\n",
    "    n_test = n_samples - n\n",
    "    nf = len(b)\n",
    "    x = np.random.rand(n, nf)\n",
    "    x_test = np.random.rand(n_test, nf)\n",
    "    x = x - x.mean(0)\n",
    "    x_test = x_test - x_test.mean(0)\n",
    "    y = np.dot(x, b) + np.random.randn(n)/10\n",
    "    y_test = np.dot(x_test, b) + np.random.randn(n_test)/10\n",
    "    return x, y, x_test, y_test"
   ]
  },
  {
   "cell_type": "code",
   "execution_count": 6,
   "metadata": {},
   "outputs": [],
   "source": [
    "def generate_betas(sigma):\n",
    "    return np.random.multivariate_normal(np.zeros(sigma.shape[0]), sigma)\n"
   ]
  },
  {
   "cell_type": "code",
   "execution_count": 7,
   "metadata": {},
   "outputs": [],
   "source": [
    "def pred_test(y_test, x_test, est_betas):\n",
    "    pred = np.dot(x_test, est_betas)\n",
    "    return np.corrcoef(y_test, pred)[0,1]"
   ]
  },
  {
   "cell_type": "code",
   "execution_count": 8,
   "metadata": {},
   "outputs": [],
   "source": [
    "Sigma = np.array([[1, 0, .5], [0, 1, .5], [.5, .5, 1]])\n"
   ]
  },
  {
   "cell_type": "code",
   "execution_count": 9,
   "metadata": {},
   "outputs": [],
   "source": [
    "ols = LinearRegression(fit_intercept=False)\n",
    "ridge = Ridge(fit_intercept=False)"
   ]
  },
  {
   "cell_type": "code",
   "execution_count": 10,
   "metadata": {},
   "outputs": [],
   "source": [
    "def get_coefs(x, y, sigma):\n",
    "    est_ols = ols.fit(x, y).coef_\n",
    "    est_ridge = ridge.fit(x, y).coef_\n",
    "    est_tik = tik.analytic_tikhonov(x, y, ridge.alpha, sigma)\n",
    "    return np.array([est_ols, est_ridge, est_tik])"
   ]
  },
  {
   "cell_type": "code",
   "execution_count": 18,
   "metadata": {},
   "outputs": [],
   "source": [
    "def compare_ests(ests):\n",
    "    # MIGHT NEED TO BE TRANSPOSED\n",
    "    f = plt.imshow(np.corrcoef(ests), vmin=0, vmax=1)\n",
    "    plt.colorbar()"
   ]
  },
  {
   "cell_type": "code",
   "execution_count": 19,
   "metadata": {},
   "outputs": [],
   "source": [
    "def run_iter(sigma):\n",
    "    b = generate_betas(sigma)\n",
    "    x, y, x_test, y_test = generate_x_y(b, 100, .2)\n",
    "    ests = get_coefs(x, y, sigma)\n",
    "    compare_ests(np.vstack([b, ests]))"
   ]
  },
  {
   "cell_type": "code",
   "execution_count": 20,
   "metadata": {},
   "outputs": [
    {
     "data": {
      "image/png": "[encoded data removed]",
      "text/plain": [
       "<matplotlib.figure.Figure at 0x10bf81cf8>"
      ]
     },
     "metadata": {},
     "output_type": "display_data"
    }
   ],
   "source": [
    "run_iter(Sigma)"
   ]
  },
  {
   "cell_type": "markdown",
   "metadata": {},
   "source": [
    "### Regression testing"
   ]
  },
  {
   "cell_type": "code",
   "execution_count": null,
   "metadata": {},
   "outputs": [],
   "source": [
    "est_ols = ols.fit(x, y).coef_\n",
    "est_ridge = ridge.fit(x, y).coef_\n",
    "tik_est_ridge = tik.analytic_tikhonov(x, y, 1, np.eye(nf))\n",
    "tik_analytic = tik.analytic_tikhonov(x, y, 1, Sigma)"
   ]
  },
  {
   "cell_type": "code",
   "execution_count": null,
   "metadata": {},
   "outputs": [],
   "source": [
    "gamma = tik.find_gamma(Sigma)\n",
    "x_new, y_new = tik.to_standard_form(x, y, gamma)\n",
    "tik_est_standard = ridge.fit(x_new, y_new).coef_\n",
    "est_tik = tik.to_general_form(tik_est_standard, x, y, gamma)"
   ]
  },
  {
   "cell_type": "markdown",
   "metadata": {},
   "source": [
    "## Scratch"
   ]
  },
  {
   "cell_type": "code",
   "execution_count": 17,
   "metadata": {},
   "outputs": [
    {
     "ename": "NameError",
     "evalue": "name 'b' is not defined",
     "output_type": "error",
     "traceback": [
      "\u001b[0;31m---------------------------------------------------------------------------\u001b[0m",
      "\u001b[0;31mNameError\u001b[0m                                 Traceback (most recent call last)",
      "\u001b[0;32m<ipython-input-17-15767266f96a>\u001b[0m in \u001b[0;36m<module>\u001b[0;34m()\u001b[0m\n\u001b[0;32m----> 1\u001b[0;31m \u001b[0mnp\u001b[0m\u001b[0;34m.\u001b[0m\u001b[0mvstack\u001b[0m\u001b[0;34m(\u001b[0m\u001b[0;34m[\u001b[0m\u001b[0mb\u001b[0m\u001b[0;34m,\u001b[0m \u001b[0mests\u001b[0m\u001b[0;34m]\u001b[0m\u001b[0;34m)\u001b[0m\u001b[0;34m\u001b[0m\u001b[0m\n\u001b[0m",
      "\u001b[0;31mNameError\u001b[0m: name 'b' is not defined"
     ]
    }
   ],
   "source": [
    "np.vstack([b, ests])"
   ]
  },
  {
   "cell_type": "code",
   "execution_count": null,
   "metadata": {},
   "outputs": [],
   "source": [
    "eps = 1e-10\n",
    "print(\"Tik-Ridge ~= Ridge: {}\".format(np.sum(tik_est_ridge-est_ridge)<eps))\n",
    "print(\"Tik-Est ~= Tik-Analytic: {}\".format(np.sum(est_tik - tik_analytic) < eps))\n"
   ]
  },
  {
   "cell_type": "code",
   "execution_count": null,
   "metadata": {},
   "outputs": [],
   "source": [
    "compare_ests(b, est_ols, est_ridge, est_tik)"
   ]
  },
  {
   "cell_type": "code",
   "execution_count": null,
   "metadata": {},
   "outputs": [],
   "source": [
    "print(\"Actual: {}\\nOLS: {}\\n Ridge: {}\\n Tik: {}\".format(\n",
    "    pred_test(y_test, x_test, b),\n",
    "    pred_test(y_test, x_test, est_ols),\n",
    "    pred_test(y_test, x_test, est_ridge),\n",
    "    pred_test(y_test, x_test, est_tik)))"
   ]
  },
  {
   "cell_type": "markdown",
   "metadata": {},
   "source": [
    "## Bigger example"
   ]
  },
  {
   "cell_type": "code",
   "execution_count": null,
   "metadata": {},
   "outputs": [],
   "source": [
    "n = 100  # OLS should outperform\n",
    "n_test = 100 # amount to predict\n",
    "nf = 300\n",
    "random_features = np.random.rand(nf, nf)\n",
    "Sigma = np.corrcoef(random_features)\n"
   ]
  },
  {
   "cell_type": "code",
   "execution_count": null,
   "metadata": {},
   "outputs": [],
   "source": [
    "x = np.random.rand(n, nf)\n",
    "x_test = np.random.rand(n_test, nf)\n",
    "b = np.random.multivariate_normal(np.zeros(nf), Sigma)\n",
    "x = x - x.mean(0)\n",
    "x_test = x_test - x_test.mean(0)\n",
    "y = np.dot(x, b) + np.random.randn(n)/10\n",
    "y_test = np.dot(x_test, b) + np.random.randn(n_test)/10"
   ]
  },
  {
   "cell_type": "code",
   "execution_count": null,
   "metadata": {},
   "outputs": [],
   "source": [
    "est_ols = ols.fit(x, y).coef_\n",
    "est_ridge = ridge.fit(x, y).coef_\n",
    "tik_est_ridge = tik.analytic_tikhonov(x, y, 1, np.eye(nf))\n",
    "est_tik = tik.analytic_tikhonov(x, y, 1, Sigma)\n"
   ]
  },
  {
   "cell_type": "code",
   "execution_count": null,
   "metadata": {},
   "outputs": [],
   "source": [
    "# Broken... Sigma is not positive definite...\n",
    "# gamma = tik.find_gamma(Sigma)\n",
    "# x_new, y_new = tik.to_standard_form(x, y, gamma)\n",
    "# tik_est_standard = ridge.fit(x_new, y_new).coef_\n",
    "# est_tik = tik.to_general_form(tik_est_standard, x, y, gamma)"
   ]
  },
  {
   "cell_type": "code",
   "execution_count": null,
   "metadata": {},
   "outputs": [],
   "source": [
    "print(\"Test correlation:\\n Actual: {}\\n OLS: {}\\n Ridge: {}\\n Tik: {}\".format(\n",
    "        pred_test(y_test, x_test, b),\n",
    "        pred_test(y_test, x_test, est_ols),\n",
    "        pred_test(y_test, x_test, est_ridge),\n",
    "        pred_test(y_test, x_test, est_tik)))"
   ]
  },
  {
   "cell_type": "code",
   "execution_count": null,
   "metadata": {},
   "outputs": [],
   "source": [
    "compare_ests(b, est_ols, est_ridge, est_tik)"
   ]
  },
  {
   "cell_type": "code",
   "execution_count": null,
   "metadata": {},
   "outputs": [],
   "source": []
  }
 ],
 "metadata": {
  "kernelspec": {
   "display_name": "python-research",
   "language": "python",
   "name": "python-research"
  },
  "language_info": {
   "codemirror_mode": {
    "name": "ipython",
    "version": 3
   },
   "file_extension": ".py",
   "mimetype": "text/x-python",
   "name": "python",
   "nbconvert_exporter": "python",
   "pygments_lexer": "ipython3",
   "version": "3.6.3"
  }
 },
 "nbformat": 4,
 "nbformat_minor": 1
}
