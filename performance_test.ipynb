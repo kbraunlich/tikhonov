{
 "cells": [
  {
   "cell_type": "markdown",
   "metadata": {},
   "source": [
    "# Tikhonov Regression performance test\n",
    "Looking at how Tikhonov regularized regression should be applied to data. This document will look at different applications and compare against OLS and Ridge"
   ]
  },
  {
   "cell_type": "code",
   "execution_count": 1,
   "metadata": {
    "collapsed": true
   },
   "outputs": [],
   "source": [
    "%matplotlib inline\n",
    "import numpy as np\n",
    "import matplotlib.pyplot as plt\n",
    "from time import time"
   ]
  },
  {
   "cell_type": "code",
   "execution_count": 2,
   "metadata": {},
   "outputs": [],
   "source": [
    "import os\n",
    "import sys\n",
    "if sys.platform is 'darwin':\n",
    "    sys.path.append(os.path.join('/Users', 'njchiang', \n",
    "                                 'GitHub', 'tikhonov'))\n",
    "else:\n",
    "    sys.path.append(os.path.join('D:\\\\', 'GitHub', 'tikhonov'))"
   ]
  },
  {
   "cell_type": "code",
   "execution_count": 3,
   "metadata": {},
   "outputs": [],
   "source": [
    "import TikhonovRegression as Tik\n",
    "from sklearn.linear_model import Ridge, LinearRegression"
   ]
  },
  {
   "cell_type": "markdown",
   "metadata": {},
   "source": [
    "## Generate random data according to a certain feature space"
   ]
  },
  {
   "cell_type": "code",
   "execution_count": 23,
   "metadata": {},
   "outputs": [],
   "source": [
    "# np.random.seed(0)\n",
    "#  maybe use X as the prior... ?!?!\n",
    "\n",
    "# Config\n",
    "TR = 1000 # regression timepoints\n",
    "TP = 200 # prediction timepoints\n",
    "M = 50 # response sources (voxels, whatever)\n",
    "NC = 100  # number of conditions\n",
    "N = 2000 # features\n",
    "# snrs = np.linspace(0.8, 1.0, M)  # testing signal to noise ratios in different voxels\n",
    "snrs = 1.0"
   ]
  },
  {
   "cell_type": "code",
   "execution_count": 24,
   "metadata": {},
   "outputs": [],
   "source": [
    "## prior method:\n",
    "prior = (np.random.randn(N, NC))\n",
    "# Create Design Matrix by One-hotting a design matrix\n",
    "Xvec = np.random.choice(NC+1, TR+TP).ravel()\n",
    "X = np.zeros((Xvec.shape[0], NC+1))\n",
    "X[np.arange(Xvec.shape[0]), Xvec] = 1\n",
    "X = X[:, 1:] # design matrix\n",
    "# B = np.random.multivariate_normal(np.zeros(NC), np.corrcoef(prior.T), size=M).T  # true betas\n",
    "B = np.random.multivariate_normal(np.zeros(NC), np.linalg.inv(np.corrcoef(prior.T)), size=M).T  # true betas\n",
    "noise = np.random.randn(TR+TP, M)\n",
    "\n",
    "\n",
    "Y = np.dot(X, B) # shape (TR+TP, M)\n",
    "y = (Y) + noise\n",
    "\n",
    "y_train = y[:TR]\n",
    "y_test = y[TR:]\n",
    "x_train = X[:TR]\n",
    "x_test = X[TR:]\n",
    "L = np.diag(np.ones(NC))"
   ]
  },
  {
   "cell_type": "code",
   "execution_count": 25,
   "metadata": {},
   "outputs": [],
   "source": [
    "# linear relationship method\n",
    "\n",
    "realwt = np.random.randn(N, M)\n",
    "features = np.random.randn(TR+TP, N)\n",
    "realresponses = np.dot(features, realwt) # shape (TR+TP, M)\n",
    "noise = np.random.randn(TR+TP, M)\n",
    "responses = (realresponses * snrs) + noise\n",
    "\n",
    "y_train = responses[:TR]\n",
    "y_test = responses[TR:]\n",
    "x_train = features[:TR]\n",
    "x_test = features[TR:]\n",
    "L = np.diag(np.ones(N))\n",
    "B = realwt"
   ]
  },
  {
   "cell_type": "code",
   "execution_count": 26,
   "metadata": {},
   "outputs": [
    {
     "data": {
      "text/plain": [
       "(2000L, 2000L)"
      ]
     },
     "execution_count": 26,
     "metadata": {},
     "output_type": "execute_result"
    }
   ],
   "source": [
    "L.shape"
   ]
  },
  {
   "cell_type": "code",
   "execution_count": 27,
   "metadata": {},
   "outputs": [
    {
     "data": {
      "text/plain": [
       "(2000L, 50L)"
      ]
     },
     "execution_count": 27,
     "metadata": {},
     "output_type": "execute_result"
    }
   ],
   "source": [
    "B.shape"
   ]
  },
  {
   "cell_type": "code",
   "execution_count": 28,
   "metadata": {},
   "outputs": [
    {
     "data": {
      "text/plain": [
       "(2000L, 50L)"
      ]
     },
     "execution_count": 28,
     "metadata": {},
     "output_type": "execute_result"
    }
   ],
   "source": [
    "B.shape"
   ]
  },
  {
   "cell_type": "code",
   "execution_count": 29,
   "metadata": {},
   "outputs": [
    {
     "data": {
      "text/plain": [
       "array([[  1.05348394e+00,   1.42217589e-02,  -2.04264554e-02, ...,\n         -2.52829006e-02,   3.21902608e-02,   8.71009616e-03],\n       [  1.42217589e-02,   1.04316423e+00,   2.30921297e-02, ...,\n          1.29748946e-02,  -6.39277511e-04,   4.09110265e-03],\n       [ -2.04264554e-02,   2.30921297e-02,   1.04221772e+00, ...,\n          4.40134020e-03,  -5.45639993e-02,   1.91206179e-02],\n       ..., \n       [ -2.52829006e-02,   1.29748946e-02,   4.40134020e-03, ...,\n          1.04349699e+00,   2.09942392e-03,   7.38235441e-03],\n       [  3.21902608e-02,  -6.39277511e-04,  -5.45639993e-02, ...,\n          2.09942392e-03,   1.06459343e+00,  -9.22750874e-03],\n       [  8.71009616e-03,   4.09110265e-03,   1.91206179e-02, ...,\n          7.38235441e-03,  -9.22750874e-03,   1.06278466e+00]])"
      ]
     },
     "execution_count": 29,
     "metadata": {},
     "output_type": "execute_result"
    }
   ],
   "source": [
    "np.linalg.inv(np.corrcoef(prior.T))"
   ]
  },
  {
   "cell_type": "code",
   "execution_count": 30,
   "metadata": {},
   "outputs": [
    {
     "data": {
      "image/png": "[encoded data removed]",
      "text/plain": [
       "<matplotlib.figure.Figure at 0x9bb2ac8>"
      ]
     },
     "metadata": {},
     "output_type": "display_data"
    },
    {
     "data": {
      "text/plain": [
       "[<matplotlib.lines.Line2D at 0xa4a6e48>]"
      ]
     },
     "execution_count": 30,
     "metadata": {},
     "output_type": "execute_result"
    },
    {
     "data": {
      "image/png": "[encoded data removed]",
      "text/plain": [
       "<matplotlib.figure.Figure at 0xa56a940>"
      ]
     },
     "metadata": {},
     "output_type": "display_data"
    }
   ],
   "source": [
    "plt.imshow(X[:10, :10], interpolation='nearest')\n",
    "plt.show()\n",
    "plt.plot(y[:,0])"
   ]
  },
  {
   "cell_type": "code",
   "execution_count": 31,
   "metadata": {},
   "outputs": [],
   "source": [
    "clfs = {'OLS': LinearRegression(), \n",
    "        'Ridge': Ridge(),\n",
    "        'Tikhonov': Tik.TikhonovReg(gamma=L, solver='auto')}"
   ]
  },
  {
   "cell_type": "code",
   "execution_count": 32,
   "metadata": {},
   "outputs": [
    {
     "name": "stdout",
     "output_type": "stream",
     "text": [
      "--------------------------\nFitting Tikhonov\n"
     ]
    },
    {
     "name": "stdout",
     "output_type": "stream",
     "text": [
      "Test score: 0.500304581568\nCoef: [[-0.47359338  0.08419966  0.54422569 ..., -0.4894009  -0.37342935\n   0.29905262]\n [ 0.43942801  0.64392204  0.3523679  ...,  1.22859458  0.02448466\n   0.31200267]\n [-0.16064719  0.19381826 -0.10079849 ..., -1.01888582 -0.74165126\n   0.64584353]\n ..., \n [-0.0655497  -0.45428304  0.38847507 ..., -0.17375365  1.07562382\n  -0.30606372]\n [-0.51418546  0.53070276 -0.38420622 ...,  0.68850617 -0.64808373\n   0.72681486]\n [ 0.11573721 -0.9578662  -1.00470789 ..., -0.88436762  0.29991392\n   0.46222065]]\nFinished in 1.09700012207 seconds\n--------------------------\n--------------------------\nFitting OLS\n"
     ]
    },
    {
     "name": "stdout",
     "output_type": "stream",
     "text": [
      "Test score: 0.496706671278\nCoef: [[-0.47234335  0.10162847  0.53538349 ..., -0.47901566 -0.38251993\n   0.29575864]\n [ 0.43234261  0.57739567  0.39113798 ...,  1.19057562  0.05612846\n   0.32856947]\n [-0.17927597  0.02787783 -0.0080144  ..., -1.11945102 -0.66443232\n   0.68566454]\n ..., \n [-0.03717928 -0.17986475  0.23535634 ..., -0.01019839  0.94928487\n  -0.37174004]\n [-0.51655227  0.51767448 -0.37581546 ...,  0.6795177  -0.64184128\n   0.73278135]\n [ 0.11000459 -1.01382782 -0.97596035 ..., -0.91687358  0.32456332\n   0.47551423]]\nFinished in 0.306999921799 seconds\n--------------------------\n--------------------------\nFitting Ridge\nTest score: 0.500304581568\nCoef: [[-0.47359338  0.08419966  0.54422569 ..., -0.4894009  -0.37342935\n   0.29905262]\n [ 0.43942801  0.64392204  0.3523679  ...,  1.22859458  0.02448466\n   0.31200267]\n [-0.16064719  0.19381826 -0.10079849 ..., -1.01888582 -0.74165126\n   0.64584353]\n ..., \n [-0.0655497  -0.45428304  0.38847507 ..., -0.17375365  1.07562382\n  -0.30606372]\n [-0.51418546  0.53070276 -0.38420622 ...,  0.68850617 -0.64808373\n   0.72681486]\n [ 0.11573721 -0.9578662  -1.00470789 ..., -0.88436762  0.29991392\n   0.46222065]]\nFinished in 0.0640001296997 seconds\n--------------------------\nTrue B: [[-1.01530958  0.16019665  1.6964784  ..., -0.65078945 -0.24236292\n  -0.09404173]\n [ 0.15605914  0.29739917 -0.00819513 ...,  1.51379673  0.16609438\n  -0.30775755]\n [ 0.26798428  0.84096998  0.95669882 ...,  0.61923895 -2.21998925\n   1.44393409]\n ..., \n [-0.29749467 -0.64531408 -0.75817102 ...,  0.98002959  0.72218699\n  -0.62147712]\n [-0.70044345 -1.42912564  1.40108406 ...,  1.47901181 -1.11834991\n   0.50407859]\n [-0.09462496 -1.06431922 -1.02294853 ..., -0.66663923  0.17199145\n   1.20926724]]\n"
     ]
    }
   ],
   "source": [
    "for i in clfs:\n",
    "    print '--------------------------'\n",
    "    print \"Fitting \" + i\n",
    "    now = time()\n",
    "    print \"Test score: \" + str(clfs[i].fit(x_train, y_train).score(x_test, y_test))\n",
    "    print \"Coef: \" + str(clfs[i].coef_)\n",
    "    done = time()\n",
    "    print \"Finished in \" + str(done-now) + ' seconds'\n",
    "    print '--------------------------'\n",
    "\n",
    "print 'True B: ' + str(B.T)"
   ]
  },
  {
   "cell_type": "code",
   "execution_count": 75,
   "metadata": {},
   "outputs": [
    {
     "data": {
      "text/plain": [
       "1200.3214143002797"
      ]
     },
     "execution_count": 75,
     "metadata": {},
     "output_type": "execute_result"
    }
   ],
   "source": [
    "np.sum((clfs['Tikhonov'].coef_-B.T)**2)"
   ]
  },
  {
   "cell_type": "code",
   "execution_count": 76,
   "metadata": {},
   "outputs": [
    {
     "data": {
      "text/plain": [
       "1267.3337470504839"
      ]
     },
     "execution_count": 76,
     "metadata": {},
     "output_type": "execute_result"
    }
   ],
   "source": [
    "np.sum((clfs['OLS'].coef_-B.T)**2)"
   ]
  },
  {
   "cell_type": "code",
   "execution_count": 77,
   "metadata": {},
   "outputs": [
    {
     "data": {
      "text/plain": [
       "551.69123107582891"
      ]
     },
     "execution_count": 77,
     "metadata": {},
     "output_type": "execute_result"
    }
   ],
   "source": [
    "np.sum((clfs['Ridge'].coef_-B.T)**2)"
   ]
  },
  {
   "cell_type": "code",
   "execution_count": 78,
   "metadata": {},
   "outputs": [
    {
     "data": {
      "text/plain": [
       "array([[ 1.,  0.,  0., ...,  0.,  0.,  0.],\n       [ 0.,  1.,  0., ...,  0.,  0.,  0.],\n       [ 0.,  0.,  1., ...,  0.,  0.,  0.],\n       ..., \n       [ 0.,  0.,  0., ...,  1.,  0.,  0.],\n       [ 0.,  0.,  0., ...,  0.,  1.,  0.],\n       [ 0.,  0.,  0., ...,  0.,  0.,  1.]])"
      ]
     },
     "execution_count": 78,
     "metadata": {},
     "output_type": "execute_result"
    }
   ],
   "source": [
    "np.diag(np.ones(NC))"
   ]
  },
  {
   "cell_type": "code",
   "execution_count": 79,
   "metadata": {},
   "outputs": [
    {
     "data": {
      "text/plain": [
       "array([[ -1.34441069e-17,   1.37456037e-02,   3.39109815e-02, ...,\n          9.36281788e-02,   6.05889493e-02,  -1.22697494e-01],\n       [ -8.67361738e-18,   4.44753911e-01,   3.92034731e-01, ...,\n         -7.92772827e-02,  -9.59080753e-02,  -8.02510833e-02],\n       [  1.73472348e-18,   1.76106252e-02,   4.75392905e-03, ...,\n          7.57068958e-02,  -3.66081607e-03,   1.96036727e-02],\n       ..., \n       [ -1.17093835e-17,  -2.75210981e-02,   4.71355875e-02, ...,\n         -1.93523397e-03,   3.23399048e-02,  -4.92242572e-02],\n       [ -9.54097912e-18,   2.85917513e-02,  -3.95092070e-02, ...,\n          1.39366950e-01,   3.74073334e-02,  -3.38914307e-02],\n       [ -2.08166817e-17,   5.41233725e-16,   4.85722573e-17, ...,\n          1.52655666e-16,   1.45716772e-16,   1.45716772e-16]])"
      ]
     },
     "execution_count": 79,
     "metadata": {},
     "output_type": "execute_result"
    }
   ],
   "source": [
    "clfs['Tikhonov'].gamma"
   ]
  },
  {
   "cell_type": "code",
   "execution_count": 94,
   "metadata": {},
   "outputs": [
    {
     "name": "stderr",
     "output_type": "stream",
     "text": [
      "C:\\Users\\jeffn\\Anaconda2\\lib\\site-packages\\sklearn\\decomposition\\fastica_.py:116: UserWarning: FastICA did not converge. Consider increasing tolerance or the maximum number of iterations.\n  warnings.warn('FastICA did not converge. Consider increasing '\n"
     ]
    }
   ],
   "source": [
    "from sklearn.decomposition import FastICA\n",
    "method = FastICA()\n",
    "test = method.fit(np.diag(np.ones(NC)).T).transform(np.diag(np.ones(NC)).T).T"
   ]
  },
  {
   "cell_type": "code",
   "execution_count": 95,
   "metadata": {},
   "outputs": [
    {
     "data": {
      "text/plain": [
       "(100L, 100L)"
      ]
     },
     "execution_count": 95,
     "metadata": {},
     "output_type": "execute_result"
    }
   ],
   "source": [
    "ica = FastICA()\n",
    "ica.fit_transform(np.diag(np.ones(NC))).shape"
   ]
  },
  {
   "cell_type": "code",
   "execution_count": 96,
   "metadata": {},
   "outputs": [
    {
     "data": {
      "text/plain": [
       "array([[ 1.41655445,  0.21522713,  0.55886841, ...,  0.0276351 ,\n         0.02777052, -0.05199051],\n       [ 0.21522713,  1.42665482, -0.2806778 , ..., -0.01775074,\n        -0.06720448, -0.12864304],\n       [ 0.55886841, -0.2806778 ,  2.67981339, ...,  0.09330177,\n         0.18400764,  0.10725021],\n       ..., \n       [ 0.0276351 , -0.01775074,  0.09330177, ...,  1.05121827,\n        -0.02676082,  0.02898407],\n       [ 0.02777052, -0.06720448,  0.18400764, ..., -0.02676082,\n         0.98682427,  0.02481079],\n       [-0.05199051, -0.12864304,  0.10725021, ...,  0.02898407,\n         0.02481079,  1.03385544]])"
      ]
     },
     "execution_count": 96,
     "metadata": {},
     "output_type": "execute_result"
    }
   ],
   "source": [
    "np.dot(test.T, test)"
   ]
  },
  {
   "cell_type": "code",
   "execution_count": 97,
   "metadata": {},
   "outputs": [
    {
     "data": {
      "text/plain": [
       "array([[ 1.,  0.,  0., ...,  0.,  0.,  0.],\n       [ 0.,  1.,  0., ...,  0.,  0.,  0.],\n       [ 0.,  0.,  1., ...,  0.,  0.,  0.],\n       ..., \n       [ 0.,  0.,  0., ...,  1.,  0.,  0.],\n       [ 0.,  0.,  0., ...,  0.,  1.,  0.],\n       [ 0.,  0.,  0., ...,  0.,  0.,  1.]])"
      ]
     },
     "execution_count": 97,
     "metadata": {},
     "output_type": "execute_result"
    }
   ],
   "source": [
    "np.dot(np.diag(np.ones(NC)).T, np.diag(np.ones(NC)))"
   ]
  },
  {
   "cell_type": "code",
   "execution_count": null,
   "metadata": {},
   "outputs": [],
   "source": [
    ""
   ]
  }
 ],
 "metadata": {
  "kernelspec": {
   "display_name": "Python 2",
   "language": "python",
   "name": "python2"
  },
  "language_info": {
   "codemirror_mode": {
    "name": "ipython",
    "version": 2.0
   },
   "file_extension": ".py",
   "mimetype": "text/x-python",
   "name": "python",
   "nbconvert_exporter": "python",
   "pygments_lexer": "ipython2",
   "version": "2.7.6"
  }
 },
 "nbformat": 4,
 "nbformat_minor": 0
}